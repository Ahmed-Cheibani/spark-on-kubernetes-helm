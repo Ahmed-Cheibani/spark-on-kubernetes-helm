{
 "cells": [
  {
   "cell_type": "code",
   "execution_count": null,
   "metadata": {},
   "outputs": [],
   "source": [
    "%%configure -f\n",
    "{\n",
    "    \"name\": \"_template\",\n",
    "    \"proxyUser\": \"jupyter_user\",\n",
    "    \"driverMemory\": \"2G\",\n",
    "    \"executorMemory\": \"2G\",\n",
    "    \"numExecutors\": 2,\n",
    "    \"jars\": [\n",
    "    ],\n",
    "    \"conf\": {\n",
    "        \"spark.kubernetes.allocation.batch.size\": 10\n",
    "    }\n",
    "}"
   ]
  },
  {
   "cell_type": "code",
   "execution_count": null,
   "metadata": {},
   "outputs": [],
   "source": [
    "%%html\n",
    "<style>.container { width:90% !important; }</style>"
   ]
  },
  {
   "cell_type": "code",
   "execution_count": null,
   "metadata": {},
   "outputs": [],
   "source": []
  }
 ],
 "metadata": {},
 "nbformat": 4,
 "nbformat_minor": 0
}
